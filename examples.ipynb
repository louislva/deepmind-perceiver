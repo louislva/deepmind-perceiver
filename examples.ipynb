{
 "cells": [
  {
   "cell_type": "code",
   "execution_count": null,
   "metadata": {},
   "outputs": [],
   "source": [
    "from perceiver import Perceiver\n",
    "\n",
    "Perceiver(\n",
    "    input_channels=1, # <- How many channels in the input? E.g. 3 for RGB.\n",
    "    input_shape=(28, 28), # <- How big is the input in the different dimensions? E.g. (28, 28) for MNIST\n",
    "    fourier_bands=4, # <- How many bands should the positional encoding have?\n",
    "    latents=64, # <- How many latent vectors?\n",
    "    d_model=32, # <- Model dimensionality. Every pixel/token/latent vector will have this size.\n",
    "    heads=8, # <- How many heads in self-attention? Cross-attention always has 1 head.\n",
    "    latent_blocks=6, # <- How much latent self-attention for each cross attention with the input?\n",
    "    dropout=0.1, # <- Dropout\n",
    "    layers=8, # <- This will become two unique layer-blocks: layer 1 and layer 2-8 (using weight sharing).\n",
    ")"
   ]
  },
  {
   "cell_type": "code",
   "execution_count": null,
   "metadata": {},
   "outputs": [],
   "source": [
    "from perceiver import PerceiverLogits\n",
    "\n",
    "PerceiverLogits(\n",
    "    input_channels=1, # <- How many channels in the input? E.g. 3 for RGB.\n",
    "    output_features=10, # <- How many different classes? E.g. 10 for MNIST.\n",
    "    input_shape=(28, 28), # <- How big is the input in the different dimensions? E.g. (28, 28) for MNIST\n",
    "    fourier_bands=4, # <- How many bands should the positional encoding have?\n",
    "    latents=64, # <- How many latent vectors?\n",
    "    d_model=32, # <- Model dimensionality. Every pixel/token/latent vector will have this size.\n",
    "    heads=8, # <- How many heads in self-attention? Cross-attention always has 1 head.\n",
    "    latent_blocks=6, # <- How much latent self-attention for each cross attention with the input?\n",
    "    dropout=0.1, # <- Dropout\n",
    "    layers=8, # <- This will become two unique layer-blocks: layer 1 and layer 2-8 (using weight sharing).\n",
    ")"
   ]
  },
  {
   "cell_type": "code",
   "execution_count": null,
   "metadata": {},
   "outputs": [],
   "source": [
    "from perceiver import load_mnist_model\n",
    "\n",
    "load_mnist_model()"
   ]
  }
 ],
 "metadata": {
  "kernelspec": {
   "display_name": "Python 3",
   "language": "python",
   "name": "python3"
  },
  "language_info": {
   "codemirror_mode": {
    "name": "ipython",
    "version": 3
   },
   "file_extension": ".py",
   "mimetype": "text/x-python",
   "name": "python",
   "nbconvert_exporter": "python",
   "pygments_lexer": "ipython3",
   "version": "3.8.8"
  }
 },
 "nbformat": 4,
 "nbformat_minor": 4
}
