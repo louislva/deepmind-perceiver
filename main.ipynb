{
 "cells": [
  {
   "cell_type": "code",
   "execution_count": null,
   "metadata": {},
   "outputs": [],
   "source": [
    "!curl https://data.deepai.org/mnist.zip -o mnist.zip\n",
    "!unzip mnist.zip -d mnist/\n",
    "!rm mnist.zip\n",
    "!gunzip mnist -r"
   ]
  },
  {
   "cell_type": "code",
   "execution_count": 112,
   "metadata": {},
   "outputs": [
    {
     "name": "stdout",
     "output_type": "stream",
     "text": [
      "t10k-images-idx3-ubyte  train-images-idx3-ubyte\r\n",
      "t10k-labels-idx1-ubyte  train-labels-idx1-ubyte\r\n"
     ]
    }
   ],
   "source": [
    "!ls mnist"
   ]
  },
  {
   "cell_type": "code",
   "execution_count": 162,
   "metadata": {},
   "outputs": [],
   "source": [
    "import numpy as np\n",
    "\n",
    "def load_mnist_data(test=False):\n",
    "    if(test):\n",
    "        f_images = open('mnist/t10k-images-idx3-ubyte','rb')\n",
    "        f_labels = open('mnist/t10k-labels-idx1-ubyte','rb')\n",
    "    else:\n",
    "        f_images = open('mnist/train-images-idx3-ubyte','rb')\n",
    "        f_labels = open('mnist/train-labels-idx1-ubyte','rb')\n",
    "        \n",
    "    \n",
    "    \n",
    "    # skip bullshit start\n",
    "    f_images.seek(16)\n",
    "    f_labels.seek(8)\n",
    "    \n",
    "    # read whole file\n",
    "    buf_images = f_images.read()\n",
    "    buf_labels = f_labels.read()\n",
    "    \n",
    "    images = np.frombuffer(buf_images, dtype=np.uint8).astype(np.float32)\n",
    "    images = images.reshape(-1, 1, 28, 28) / 256\n",
    "    \n",
    "    labels = np.frombuffer(buf_labels, dtype=np.uint8)\n",
    "    labels_one_hot = np.zeros((labels.shape[0], 10))\n",
    "    labels_one_hot[np.arange(labels.size), labels] = 1\n",
    "    \n",
    "    return images, labels\n",
    "\n",
    "def sample_batch(X, Y, batch_size=32):\n",
    "    length = len(Y)\n",
    "    idx = np.random.choice(np.arange(0, length), size=(batch_size), replace=False)\n",
    "    \n",
    "    return X[idx], Y[idx]\n",
    "\n",
    "## USAGE EXAMPLE:\n",
    "#  X, Y = load_mnist_data(test=False)\n",
    "#  x, y = sample_batch(X, Y)"
   ]
  },
  {
   "cell_type": "code",
   "execution_count": 163,
   "metadata": {},
   "outputs": [
    {
     "data": {
      "text/plain": [
       "<matplotlib.image.AxesImage at 0x139d18580>"
      ]
     },
     "execution_count": 163,
     "metadata": {},
     "output_type": "execute_result"
    },
    {
     "data": {
      "image/png": "[encoded data removed]",
      "text/plain": [
       "<Figure size 432x288 with 1 Axes>"
      ]
     },
     "metadata": {
      "needs_background": "light"
     },
     "output_type": "display_data"
    }
   ],
   "source": [
    "from matplotlib.pyplot import imshow\n",
    "\n",
    "imshow(data[1])"
   ]
  },
  {
   "cell_type": "code",
   "execution_count": 180,
   "metadata": {},
   "outputs": [],
   "source": [
    "import torch\n",
    "from torch import nn, optim\n",
    "\n",
    "model = nn.Linear(28 * 28, 10)\n",
    "optimizer = optim.Adam(model.parameters(), lr=0.001)"
   ]
  },
  {
   "cell_type": "code",
   "execution_count": 181,
   "metadata": {},
   "outputs": [
    {
     "name": "stderr",
     "output_type": "stream",
     "text": [
      "\n",
      "\n",
      "  0%|          | 0/234 [00:00<?, ?it/s]\u001b[A\u001b[A\n",
      "\n",
      " 19%|█▉        | 45/234 [00:00<00:00, 441.28it/s]\u001b[A\u001b[A"
     ]
    },
    {
     "name": "stdout",
     "output_type": "stream",
     "text": [
      "EPOCH 0\n",
      "tensor(1.8861, grad_fn=<NllLossBackward>)\n"
     ]
    },
    {
     "name": "stderr",
     "output_type": "stream",
     "text": [
      "\n",
      "\n",
      " 38%|███▊      | 90/234 [00:00<00:00, 381.25it/s]\u001b[A\u001b[A\n",
      "\n",
      " 55%|█████▌    | 129/234 [00:00<00:00, 382.43it/s]\u001b[A\u001b[A\n",
      "\n",
      " 74%|███████▎  | 172/234 [00:00<00:00, 398.91it/s]\u001b[A\u001b[A\n",
      "\n",
      "100%|██████████| 234/234 [00:00<00:00, 397.83it/s]\u001b[A\u001b[A\n",
      "\n",
      "\n",
      "  0%|          | 0/234 [00:00<?, ?it/s]\u001b[A\u001b[A\n",
      "\n",
      " 20%|██        | 47/234 [00:00<00:00, 463.51it/s]\u001b[A\u001b[A"
     ]
    },
    {
     "name": "stdout",
     "output_type": "stream",
     "text": [
      "EPOCH 1\n",
      "tensor(0.4755, grad_fn=<NllLossBackward>)\n"
     ]
    },
    {
     "name": "stderr",
     "output_type": "stream",
     "text": [
      "\n",
      "\n",
      " 40%|████      | 94/234 [00:00<00:00, 433.35it/s]\u001b[A\u001b[A\n",
      "\n",
      " 59%|█████▉    | 138/234 [00:00<00:00, 388.13it/s]\u001b[A\u001b[A\n",
      "\n",
      " 77%|███████▋  | 181/234 [00:00<00:00, 400.54it/s]\u001b[A\u001b[A\n",
      "\n",
      "100%|██████████| 234/234 [00:00<00:00, 399.13it/s]\u001b[A\u001b[A\n",
      "\n",
      "\n",
      "  0%|          | 0/234 [00:00<?, ?it/s]\u001b[A\u001b[A\n",
      "\n",
      " 16%|█▌        | 38/234 [00:00<00:00, 377.83it/s]\u001b[A\u001b[A"
     ]
    },
    {
     "name": "stdout",
     "output_type": "stream",
     "text": [
      "EPOCH 2\n",
      "tensor(0.4235, grad_fn=<NllLossBackward>)\n"
     ]
    },
    {
     "name": "stderr",
     "output_type": "stream",
     "text": [
      "\n",
      "\n",
      " 35%|███▌      | 83/234 [00:00<00:00, 419.71it/s]\u001b[A\u001b[A\n",
      "\n",
      " 55%|█████▌    | 129/234 [00:00<00:00, 435.99it/s]\u001b[A\u001b[A\n",
      "\n",
      " 74%|███████▍  | 173/234 [00:00<00:00, 421.06it/s]\u001b[A\u001b[A\n",
      "\n",
      "100%|██████████| 234/234 [00:00<00:00, 409.22it/s]\u001b[A\u001b[A\n",
      "\n",
      "\n",
      "  0%|          | 0/234 [00:00<?, ?it/s]\u001b[A\u001b[A\n",
      "\n",
      " 16%|█▌        | 37/234 [00:00<00:00, 364.22it/s]\u001b[A\u001b[A"
     ]
    },
    {
     "name": "stdout",
     "output_type": "stream",
     "text": [
      "EPOCH 3\n",
      "tensor(0.2555, grad_fn=<NllLossBackward>)\n"
     ]
    },
    {
     "name": "stderr",
     "output_type": "stream",
     "text": [
      "\n",
      "\n",
      " 33%|███▎      | 77/234 [00:00<00:00, 382.84it/s]\u001b[A\u001b[A\n",
      "\n",
      " 50%|█████     | 118/234 [00:00<00:00, 392.74it/s]\u001b[A\u001b[A\n",
      "\n",
      " 68%|██████▊   | 158/234 [00:00<00:00, 387.66it/s]\u001b[A\u001b[A\n",
      "\n",
      "100%|██████████| 234/234 [00:00<00:00, 397.02it/s]\u001b[A\u001b[A\n",
      "\n",
      "\n",
      "  0%|          | 0/234 [00:00<?, ?it/s]\u001b[A\u001b[A\n",
      "\n",
      " 18%|█▊        | 43/234 [00:00<00:00, 427.20it/s]\u001b[A\u001b[A"
     ]
    },
    {
     "name": "stdout",
     "output_type": "stream",
     "text": [
      "EPOCH 4\n",
      "tensor(0.3573, grad_fn=<NllLossBackward>)\n"
     ]
    },
    {
     "name": "stderr",
     "output_type": "stream",
     "text": [
      "\n",
      "\n",
      " 37%|███▋      | 86/234 [00:00<00:00, 389.13it/s]\u001b[A\u001b[A\n",
      "\n",
      " 54%|█████▍    | 126/234 [00:00<00:00, 372.89it/s]\u001b[A\u001b[A\n",
      "\n",
      " 71%|███████▏  | 167/234 [00:00<00:00, 386.18it/s]\u001b[A\u001b[A\n",
      "\n",
      "100%|██████████| 234/234 [00:00<00:00, 380.14it/s]\u001b[A\u001b[A\n",
      "\n",
      "\n",
      "  0%|          | 0/234 [00:00<?, ?it/s]\u001b[A\u001b[A\n",
      "\n",
      " 16%|█▌        | 37/234 [00:00<00:00, 360.80it/s]\u001b[A\u001b[A"
     ]
    },
    {
     "name": "stdout",
     "output_type": "stream",
     "text": [
      "EPOCH 5\n",
      "tensor(0.3904, grad_fn=<NllLossBackward>)\n"
     ]
    },
    {
     "name": "stderr",
     "output_type": "stream",
     "text": [
      "\n",
      "\n",
      " 34%|███▍      | 79/234 [00:00<00:00, 393.24it/s]\u001b[A\u001b[A\n",
      "\n",
      " 51%|█████     | 119/234 [00:00<00:00, 388.80it/s]\u001b[A\u001b[A\n",
      "\n",
      " 68%|██████▊   | 160/234 [00:00<00:00, 396.69it/s]\u001b[A\u001b[A\n",
      "\n",
      "100%|██████████| 234/234 [00:00<00:00, 376.71it/s]\u001b[A\u001b[A\n",
      "\n",
      "\n",
      "  0%|          | 0/234 [00:00<?, ?it/s]\u001b[A\u001b[A\n",
      "\n",
      " 19%|█▉        | 45/234 [00:00<00:00, 447.64it/s]\u001b[A\u001b[A"
     ]
    },
    {
     "name": "stdout",
     "output_type": "stream",
     "text": [
      "EPOCH 6\n",
      "tensor(0.3237, grad_fn=<NllLossBackward>)\n"
     ]
    },
    {
     "name": "stderr",
     "output_type": "stream",
     "text": [
      "\n",
      "\n",
      " 39%|███▉      | 91/234 [00:00<00:00, 453.07it/s]\u001b[A\u001b[A\n",
      "\n",
      " 59%|█████▊    | 137/234 [00:00<00:00, 451.79it/s]\u001b[A\u001b[A\n",
      "\n",
      " 78%|███████▊  | 183/234 [00:00<00:00, 425.20it/s]\u001b[A\u001b[A\n",
      "\n",
      "100%|██████████| 234/234 [00:00<00:00, 424.91it/s]\u001b[A\u001b[A\n",
      "\n",
      "\n",
      "  0%|          | 0/234 [00:00<?, ?it/s]\u001b[A\u001b[A\n",
      "\n",
      " 17%|█▋        | 40/234 [00:00<00:00, 397.20it/s]\u001b[A\u001b[A"
     ]
    },
    {
     "name": "stdout",
     "output_type": "stream",
     "text": [
      "EPOCH 7\n",
      "tensor(0.3459, grad_fn=<NllLossBackward>)\n"
     ]
    },
    {
     "name": "stderr",
     "output_type": "stream",
     "text": [
      "\n",
      "\n",
      " 35%|███▍      | 81/234 [00:00<00:00, 400.87it/s]\u001b[A\u001b[A\n",
      "\n",
      " 54%|█████▍    | 126/234 [00:00<00:00, 422.88it/s]\u001b[A\u001b[A\n",
      "\n",
      " 74%|███████▍  | 173/234 [00:00<00:00, 439.48it/s]\u001b[A\u001b[A\n",
      "\n",
      "100%|██████████| 234/234 [00:00<00:00, 432.18it/s]\u001b[A\u001b[A\n",
      "\n",
      "\n",
      "  0%|          | 0/234 [00:00<?, ?it/s]\u001b[A\u001b[A\n",
      "\n",
      " 19%|█▉        | 45/234 [00:00<00:00, 449.29it/s]\u001b[A\u001b[A"
     ]
    },
    {
     "name": "stdout",
     "output_type": "stream",
     "text": [
      "EPOCH 8\n",
      "tensor(0.2702, grad_fn=<NllLossBackward>)\n"
     ]
    },
    {
     "name": "stderr",
     "output_type": "stream",
     "text": [
      "\n",
      "\n",
      " 39%|███▉      | 91/234 [00:00<00:00, 453.32it/s]\u001b[A\u001b[A\n",
      "\n",
      " 59%|█████▉    | 138/234 [00:00<00:00, 457.04it/s]\u001b[A\u001b[A\n",
      "\n",
      " 79%|███████▊  | 184/234 [00:00<00:00, 436.79it/s]\u001b[A\u001b[A\n",
      "\n",
      "100%|██████████| 234/234 [00:00<00:00, 446.83it/s]\u001b[A\u001b[A\n",
      "\n",
      "\n",
      "  0%|          | 0/234 [00:00<?, ?it/s]\u001b[A\u001b[A\n",
      "\n",
      " 19%|█▉        | 45/234 [00:00<00:00, 447.94it/s]\u001b[A\u001b[A"
     ]
    },
    {
     "name": "stdout",
     "output_type": "stream",
     "text": [
      "EPOCH 9\n",
      "tensor(0.3153, grad_fn=<NllLossBackward>)\n"
     ]
    },
    {
     "name": "stderr",
     "output_type": "stream",
     "text": [
      "\n",
      "\n",
      " 39%|███▉      | 92/234 [00:00<00:00, 456.01it/s]\u001b[A\u001b[A\n",
      "\n",
      " 59%|█████▉    | 138/234 [00:00<00:00, 431.56it/s]\u001b[A\u001b[A\n",
      "\n",
      " 78%|███████▊  | 182/234 [00:00<00:00, 434.03it/s]\u001b[A\u001b[A\n",
      "\n",
      "100%|██████████| 234/234 [00:00<00:00, 429.10it/s]\u001b[A\u001b[A\n"
     ]
    }
   ],
   "source": [
    "from tqdm import trange\n",
    "\n",
    "X, Y = load_mnist_data(test=False)\n",
    "X_LENGTH = len(X)\n",
    "EPOCHS = 10\n",
    "BATCH_SIZE = 256\n",
    "DEVICE = 'cpu'\n",
    "\n",
    "for epoch in range(EPOCHS):\n",
    "    print('EPOCH', epoch)\n",
    "    for _ in trange(X_LENGTH // BATCH_SIZE):\n",
    "        optimizer.zero_grad()\n",
    "        \n",
    "        x, y = sample_batch(X, Y, BATCH_SIZE)\n",
    "        x = torch.from_numpy(x).float().to(DEVICE)\n",
    "        y = torch.from_numpy(y).long().to(DEVICE)\n",
    "        \n",
    "        y_ = model(x.view((BATCH_SIZE, 28 * 28)))\n",
    "        loss = nn.CrossEntropyLoss()(y_, y)\n",
    "        \n",
    "        loss.backward()\n",
    "        optimizer.step()\n",
    "        \n",
    "        if(_ == 10):\n",
    "            print(loss)"
   ]
  }
 ],
 "metadata": {
  "kernelspec": {
   "display_name": "Python 3",
   "language": "python",
   "name": "python3"
  },
  "language_info": {
   "codemirror_mode": {
    "name": "ipython",
    "version": 3
   },
   "file_extension": ".py",
   "mimetype": "text/x-python",
   "name": "python",
   "nbconvert_exporter": "python",
   "pygments_lexer": "ipython3",
   "version": "3.8.8"
  }
 },
 "nbformat": 4,
 "nbformat_minor": 4
}
